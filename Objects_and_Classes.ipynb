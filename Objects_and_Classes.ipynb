{
 "cells": [
  {
   "cell_type": "markdown",
   "metadata": {},
   "source": [
    "# Objects & Classes"
   ]
  },
  {
   "cell_type": "markdown",
   "metadata": {},
   "source": [
    "Stepping outside of computer science for a moment, how would you define an object in real life? An object is a ... thing? Yeah, even Google says the definition of an object is a \"thing\".\n",
    "\n",
    "The idea of an object in computer science is the same as in real life. An object in computer science is just a \"thing\" that is made. In Python, everything is an object.\n",
    "\n",
    "If you type `var = 7`, `7` is an object: an integer floating around in computer memory. `var = \"hi\"`. `\"hi\"` is an object: a string floating around in computer memory. `var = True`. `True` is an object: a boolean floating around in ... yeah you get the idea.\n",
    "\n",
    "Integers, strings, booleans, and all those other variable types are pre-defined objects in Python. However, **it's possible to make your own objects in Python**. That's where classes come in."
   ]
  },
  {
   "cell_type": "markdown",
   "metadata": {},
   "source": [
    "**Classes are used to make custom objects.** As the lecture notes say, classes are kinda like blueprints for creating and defining objects.\n",
    "\n",
    "\n",
    "Classes are like recipes for making food. A recipe tells you how to make the food and the food is the actual object. You can put whatever you want in that recipe and that cake (or whatever you're making) is gonna turn out based on that recipe.\n",
    "\n",
    "Classes are like blueprints for building buildings. A blueprint tells you how to build a building and the building is the actual object."
   ]
  },
  {
   "cell_type": "markdown",
   "metadata": {},
   "source": [
    "Because classes are used to make custom objects, you can define a class however you want. You can write your recipe however you want. You can design your building however you want. But, it usually makes more sense to design classes based on real-life objects."
   ]
  },
  {
   "cell_type": "markdown",
   "metadata": {},
   "source": [
    "For example, let's say we wanted to make a `Book` object. We start by defining the `Book` class."
   ]
  },
  {
   "cell_type": "code",
   "execution_count": null,
   "metadata": {},
   "outputs": [],
   "source": [
    "# don't run this cell\n",
    "class Book():"
   ]
  },
  {
   "cell_type": "markdown",
   "metadata": {},
   "source": [
    "And all classes need an `init` method. The `init` method is used to actually \"make\" (\"initialize\") an object."
   ]
  },
  {
   "cell_type": "code",
   "execution_count": null,
   "metadata": {},
   "outputs": [],
   "source": [
    "# don't run this cell\n",
    "class Book():\n",
    "    \n",
    "    def __init__():"
   ]
  },
  {
   "cell_type": "markdown",
   "metadata": {},
   "source": [
    "This is an important point so I'm gonna bold it: **All methods in a class need `self` as an input.**"
   ]
  },
  {
   "cell_type": "code",
   "execution_count": null,
   "metadata": {},
   "outputs": [],
   "source": [
    "# don't run this cell\n",
    "class Book():\n",
    "    \n",
    "    def __init__(self):"
   ]
  },
  {
   "cell_type": "markdown",
   "metadata": {},
   "source": [
    "So what are some properties that a book has? Let's start with a title and author. These \"properties\" are considered \"**attributes**\" of the `Book` object."
   ]
  },
  {
   "cell_type": "code",
   "execution_count": null,
   "metadata": {},
   "outputs": [],
   "source": [
    "# don't run this cell\n",
    "class Book():\n",
    "    \n",
    "    def __init__(self):\n",
    "        self.title = \n",
    "        self.author = "
   ]
  },
  {
   "cell_type": "markdown",
   "metadata": {},
   "source": [
    "Since the `init` method is used to actually \"make\" (\"initialize\") an object, it makes sense to define all the properties (**attributes**) inside that method. By doing this, we're making `title` and `author` **instance attributes** (more detail on this later)."
   ]
  },
  {
   "cell_type": "markdown",
   "metadata": {},
   "source": [
    "Also, since each book is going to have different titles and authors, it would make sense to make them inputs."
   ]
  },
  {
   "cell_type": "code",
   "execution_count": null,
   "metadata": {},
   "outputs": [],
   "source": [
    "# don't run this cell\n",
    "class Book():\n",
    "    \n",
    "    def __init__(self, title, author):\n",
    "        self.title = \n",
    "        self.author = "
   ]
  },
  {
   "cell_type": "markdown",
   "metadata": {},
   "source": [
    "Now that we know what the title and author are, we can give those **instance attributes** values."
   ]
  },
  {
   "cell_type": "code",
   "execution_count": null,
   "metadata": {},
   "outputs": [],
   "source": [
    "# run this cell\n",
    "class Book():\n",
    "    \n",
    "    def __init__(self, title, author):\n",
    "        self.title = title\n",
    "        self.author = author"
   ]
  },
  {
   "cell_type": "markdown",
   "metadata": {},
   "source": [
    "We now have a basic working class. So we can start making `Book` objects. To do that, we make variables that will hold those objects."
   ]
  },
  {
   "cell_type": "code",
   "execution_count": null,
   "metadata": {},
   "outputs": [],
   "source": [
    "# don't run this cell\n",
    "book_1 = Book() # book_1 is a variable that contains a Book object"
   ]
  },
  {
   "cell_type": "markdown",
   "metadata": {},
   "source": [
    "Well, this won't work yet because the `init` method takes in 2 inputs: `title` and `author`. We need to give those values to the `init` method by putting them inside the parentheses."
   ]
  },
  {
   "cell_type": "code",
   "execution_count": null,
   "metadata": {},
   "outputs": [],
   "source": [
    "# run this cell\n",
    "book_1 = Book(\"Python for Dummies\", \"Aahz Maruch and Stef Maruch\") # book_1 is a variable that contains a Book object"
   ]
  },
  {
   "cell_type": "markdown",
   "metadata": {},
   "source": [
    "The order matters here. In the `init` method, title comes first, then author. So we have to pass those inputs in the same order."
   ]
  },
  {
   "cell_type": "markdown",
   "metadata": {},
   "source": [
    "We can access those **instance attributes** by using the dot operator. Let's look at `book_1`'s title and author."
   ]
  },
  {
   "cell_type": "code",
   "execution_count": null,
   "metadata": {},
   "outputs": [],
   "source": [
    "# run this cell\n",
    "print(book_1.title)"
   ]
  },
  {
   "cell_type": "code",
   "execution_count": null,
   "metadata": {},
   "outputs": [],
   "source": [
    "# run this cell\n",
    "print(book_1.author)"
   ]
  },
  {
   "cell_type": "markdown",
   "metadata": {},
   "source": [
    "Let's make another `Book` object (cuz we really enjoy reading)."
   ]
  },
  {
   "cell_type": "code",
   "execution_count": null,
   "metadata": {},
   "outputs": [],
   "source": [
    "# run this cell\n",
    "book_2 = Book(\"Green Eggs and Ham\", \"Dr. Seuss\")"
   ]
  },
  {
   "cell_type": "markdown",
   "metadata": {},
   "source": [
    "If we print this book's title and author, we should see something different than `book_1`'s title and author."
   ]
  },
  {
   "cell_type": "code",
   "execution_count": null,
   "metadata": {},
   "outputs": [],
   "source": [
    "# run this cell\n",
    "print(book_2.title)\n",
    "\n",
    "print(book_2.author)"
   ]
  },
  {
   "cell_type": "markdown",
   "metadata": {},
   "source": [
    "Notice that we're not using `self` to access each **attribute**. **`self` is only used inside of classes**. Outside of classes, you create the object and use the name of the variable that holds the object, e.g. `book_2.title`."
   ]
  },
  {
   "cell_type": "markdown",
   "metadata": {},
   "source": [
    "So far, we've defined 2 properties (**attributes**) that a book has. A title and author. Since each book has its own title and author, we chose to initialize them in the `init` method."
   ]
  },
  {
   "cell_type": "code",
   "execution_count": null,
   "metadata": {},
   "outputs": [],
   "source": [
    "# run this cell, don't run this cell, up to you\n",
    "class Book():\n",
    "    \n",
    "    def __init__(self, title, author):\n",
    "        # title and author are instance attributes\n",
    "        self.title = title\n",
    "        self.author = author"
   ]
  },
  {
   "cell_type": "markdown",
   "metadata": {},
   "source": [
    "**Initializing those attributes inside the `init` method makes them instance attributes**. Because each \"instance\" of a `Book` has its own `title` and `author`."
   ]
  },
  {
   "cell_type": "markdown",
   "metadata": {},
   "source": [
    "Let's say that every book belongs to Geisel. This is a property (**attribute**) that is the same for every book, no matter what title or author they have. Then this **attribute** would be a **class attribute** because every object made from this class will have that same **attribute**."
   ]
  },
  {
   "cell_type": "code",
   "execution_count": null,
   "metadata": {},
   "outputs": [],
   "source": [
    "# run this cell\n",
    "class Book():\n",
    "    \n",
    "    # location is a class attribute\n",
    "    location = \"Geisel\"\n",
    "    \n",
    "    def __init__(self, title, author):\n",
    "        # title and author are instance attributes\n",
    "        self.title = title\n",
    "        self.author = author"
   ]
  },
  {
   "cell_type": "code",
   "execution_count": null,
   "metadata": {},
   "outputs": [],
   "source": [
    "# run this cell\n",
    "book_3 = Book(\"Too\", \"Lazy\")\n",
    "book_4 = Book(\"To\", \"Look\")\n",
    "book_5 = Book(\"For\", \"Books\")"
   ]
  },
  {
   "cell_type": "code",
   "execution_count": null,
   "metadata": {},
   "outputs": [],
   "source": [
    "# run this cell\n",
    "print(book_3.title)\n",
    "print(book_4.title)\n",
    "print(book_5.title)"
   ]
  },
  {
   "cell_type": "code",
   "execution_count": null,
   "metadata": {},
   "outputs": [],
   "source": [
    "# run this cell\n",
    "print(book_3.location)\n",
    "print(book_4.location)\n",
    "print(book_5.location)"
   ]
  },
  {
   "cell_type": "markdown",
   "metadata": {},
   "source": [
    "Notice that each book has a different title, but all have the same location. Each \"instance\" of a book has its own title (which is why `title` is an **instance attribute**), but every book has the same location (which is why `location` is a **class attribute**). "
   ]
  },
  {
   "cell_type": "markdown",
   "metadata": {},
   "source": [
    "Notice that we're not using `self` to access each **attribute**. **`self` is only used inside of classes**. Outside of classes, you create the object and use the name of the variable that holds the object, e.g. `book_5.location`."
   ]
  },
  {
   "cell_type": "markdown",
   "metadata": {},
   "source": [
    "Main points so far:\n",
    "- classes are used to make objects\n",
    "- objects (can) have properties called **attributes**\n",
    "- the `init` method is a method that makes (initializes) an object\n",
    "- properties (**attributes**) unique to different objects should be initialized in the `init` method\n",
    "    - these are **instance attributes**\n",
    "- properties (**attributes**) that are the same for every object (and will remain the same no matter what) should be initialized outside the `init` method\n",
    "    - these are **class attributes**"
   ]
  },
  {
   "cell_type": "markdown",
   "metadata": {},
   "source": [
    "Important details to keep in mind:\n",
    "- all methods in a class need `self` as an input\n",
    "- `self` **is only used inside of classes**\n",
    "    - `self` cannot be used outside of classes\n",
    "- outside of classes, you use the name of the variable that holds the object"
   ]
  },
  {
   "cell_type": "markdown",
   "metadata": {},
   "source": [
    "Besides having attributes, objects can also have methods. Again, since we're creating our own class, whatever methods they are and what they do is totally up to us."
   ]
  },
  {
   "cell_type": "markdown",
   "metadata": {},
   "source": [
    "Unfortunately, I chose a bad example for this, but we'll roll with it anyway. Let's say a book can \"display\" its title, author, and location. We can define a `display` method that will print the book's title, author, and location."
   ]
  },
  {
   "cell_type": "code",
   "execution_count": null,
   "metadata": {},
   "outputs": [],
   "source": [
    "# don't run this cell\n",
    "class Book():\n",
    "    \n",
    "    # location is a class attribute\n",
    "    location = \"Geisel\"\n",
    "    \n",
    "    def __init__(self, title, author):\n",
    "        # title and author are instance attributes\n",
    "        self.title = title\n",
    "        self.author = author\n",
    "        \n",
    "    def display():"
   ]
  },
  {
   "cell_type": "markdown",
   "metadata": {},
   "source": [
    "This is an important point so I'm gonna bold it: **All methods in a class need `self` as an input.**"
   ]
  },
  {
   "cell_type": "code",
   "execution_count": null,
   "metadata": {},
   "outputs": [],
   "source": [
    "# don't run this cell\n",
    "class Book():\n",
    "    \n",
    "    # location is a class attribute\n",
    "    location = \"Geisel\"\n",
    "    \n",
    "    def __init__(self, title, author):\n",
    "        # title and author are instance attributes\n",
    "        self.title = title\n",
    "        self.author = author\n",
    "        \n",
    "    def display(self):"
   ]
  },
  {
   "cell_type": "markdown",
   "metadata": {},
   "source": [
    "Now let's make the `display` method print the `title`, `author`, and `location`."
   ]
  },
  {
   "cell_type": "code",
   "execution_count": null,
   "metadata": {},
   "outputs": [],
   "source": [
    "# don't run this cell\n",
    "class Book():\n",
    "    \n",
    "    # location is a class attribute\n",
    "    location = \"Geisel\"\n",
    "    \n",
    "    def __init__(self, title, author):\n",
    "        # title and author are instance attributes\n",
    "        self.title = title\n",
    "        self.author = author\n",
    "        \n",
    "    def display(self):\n",
    "        print(title + \"by \" + author + \" is in \" + location)"
   ]
  },
  {
   "cell_type": "markdown",
   "metadata": {},
   "source": [
    "This is almost correct. **If we want to access an object's properties (attributes), we have to use `self.attribute`**. So if we want to access a `Book`'s `title`, we have to use `self.title`."
   ]
  },
  {
   "cell_type": "code",
   "execution_count": null,
   "metadata": {},
   "outputs": [],
   "source": [
    "# run this cell\n",
    "class Book():\n",
    "    \n",
    "    # location is a class attribute\n",
    "    location = \"Geisel\"\n",
    "    \n",
    "    def __init__(self, title, author):\n",
    "        # title and author are instance attributes\n",
    "        self.title = title\n",
    "        self.author = author\n",
    "        \n",
    "    def display(self):\n",
    "        print(self.title + \" by \" + self.author + \" is in \" + self.location)"
   ]
  },
  {
   "cell_type": "markdown",
   "metadata": {},
   "source": [
    "Let's make more `Book` objects so we can call the `display` method."
   ]
  },
  {
   "cell_type": "code",
   "execution_count": null,
   "metadata": {},
   "outputs": [],
   "source": [
    "# run this cell\n",
    "book_a = Book(\"Book 1\", \"Me\")\n",
    "book_b = Book(\"Book 2\", \"You\")"
   ]
  },
  {
   "cell_type": "markdown",
   "metadata": {},
   "source": [
    "To call a method, we use the dot operator (just like we used to access an object's attributes). We're accessing an object's method. **Note that to call a method, we need parentheses**."
   ]
  },
  {
   "cell_type": "code",
   "execution_count": null,
   "metadata": {},
   "outputs": [],
   "source": [
    "# run this cell\n",
    "book_a.display()"
   ]
  },
  {
   "cell_type": "code",
   "execution_count": null,
   "metadata": {},
   "outputs": [],
   "source": [
    "# run this cell\n",
    "book_b.display()"
   ]
  },
  {
   "cell_type": "markdown",
   "metadata": {},
   "source": [
    "In real life, there are many different types of books. There are textbooks, cookbooks, self-help books, literary novels, and all that fun stuff. We could model that with our `Book` class by making new classes that inherit from the `Book` class."
   ]
  },
  {
   "cell_type": "code",
   "execution_count": null,
   "metadata": {},
   "outputs": [],
   "source": [
    "# run this cell, don't run this cell, up to you\n",
    "class TextBook(Book):\n",
    "    \n",
    "    # ALL METHODS IN A CLASS NEED SELF AS IN INPUT\n",
    "    def __init__(self, title, author):\n",
    "        super().__init__(title, author)"
   ]
  },
  {
   "cell_type": "code",
   "execution_count": null,
   "metadata": {},
   "outputs": [],
   "source": [
    "# run this cell, don't run this cell, up to you\n",
    "class Cookbook(Book):\n",
    "    \n",
    "    # ALL METHODS IN A CLASS NEED SELF AS IN INPUT\n",
    "    def __init__(self, title, author):\n",
    "        super().__init__(title, author)"
   ]
  },
  {
   "cell_type": "markdown",
   "metadata": {},
   "source": [
    "This is the idea behind inheritance. Let's go deeper into inheritance and see why it's useful."
   ]
  },
  {
   "cell_type": "code",
   "execution_count": null,
   "metadata": {},
   "outputs": [],
   "source": []
  },
  {
   "cell_type": "code",
   "execution_count": null,
   "metadata": {},
   "outputs": [],
   "source": []
  },
  {
   "cell_type": "code",
   "execution_count": null,
   "metadata": {},
   "outputs": [],
   "source": []
  },
  {
   "cell_type": "code",
   "execution_count": null,
   "metadata": {},
   "outputs": [],
   "source": []
  },
  {
   "cell_type": "code",
   "execution_count": null,
   "metadata": {},
   "outputs": [],
   "source": []
  },
  {
   "cell_type": "markdown",
   "metadata": {},
   "source": [
    "No just kidding, I'll stop here. (Inheritance won't be on the final.)"
   ]
  }
 ],
 "metadata": {
  "kernelspec": {
   "display_name": "Python 3",
   "language": "python",
   "name": "python3"
  },
  "language_info": {
   "codemirror_mode": {
    "name": "ipython",
    "version": 3
   },
   "file_extension": ".py",
   "mimetype": "text/x-python",
   "name": "python",
   "nbconvert_exporter": "python",
   "pygments_lexer": "ipython3",
   "version": "3.6.7"
  }
 },
 "nbformat": 4,
 "nbformat_minor": 2
}
