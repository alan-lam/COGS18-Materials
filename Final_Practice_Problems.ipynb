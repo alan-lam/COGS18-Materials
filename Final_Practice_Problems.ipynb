{
 "cells": [
  {
   "cell_type": "markdown",
   "metadata": {},
   "source": [
    "### These questions are intended to be more challenging than what would be on the final. That being said, if you understand all the problems, then you're probably in good shape. Probably."
   ]
  },
  {
   "cell_type": "markdown",
   "metadata": {},
   "source": [
    "# Evaluating Output"
   ]
  },
  {
   "cell_type": "markdown",
   "metadata": {},
   "source": [
    "## Variables"
   ]
  },
  {
   "cell_type": "code",
   "execution_count": null,
   "metadata": {},
   "outputs": [],
   "source": [
    "var = 2\n",
    "var + 3\n",
    "print(var)"
   ]
  },
  {
   "cell_type": "code",
   "execution_count": null,
   "metadata": {},
   "outputs": [],
   "source": [
    "my_var = 5\n",
    "your_var = 10\n",
    "your_var = (my_var - your_var) * your_var\n",
    "print(your_var)"
   ]
  },
  {
   "cell_type": "code",
   "execution_count": null,
   "metadata": {},
   "outputs": [],
   "source": [
    "a = 'not the answer'\n",
    "b = a\n",
    "a = 'also not the answer'\n",
    "print(b)"
   ]
  },
  {
   "cell_type": "markdown",
   "metadata": {},
   "source": [
    "## Operators"
   ]
  },
  {
   "cell_type": "code",
   "execution_count": null,
   "metadata": {},
   "outputs": [],
   "source": [
    "c = ((7 * 2 + 4 / 2 - 3 ** 2) % 6) // 2 # ugh, math\n",
    "print(c)"
   ]
  },
  {
   "cell_type": "code",
   "execution_count": null,
   "metadata": {},
   "outputs": [],
   "source": [
    "d = not (not False and False)\n",
    "print(d)"
   ]
  },
  {
   "cell_type": "code",
   "execution_count": null,
   "metadata": {},
   "outputs": [],
   "source": [
    "var_a = 7\n",
    "var_b = var_a == 8\n",
    "var_c = (var_a - 3) <= (var_a % 5)\n",
    "var_d = var_c == True or var_b != False\n",
    "print((var_a == 7 and var_b) or (var_c and var_d)) # ugh, code"
   ]
  },
  {
   "cell_type": "code",
   "execution_count": null,
   "metadata": {},
   "outputs": [],
   "source": [
    "some_string = 'wow, does that work?'\n",
    "print(('that' + 'work') in some_string)"
   ]
  },
  {
   "cell_type": "markdown",
   "metadata": {},
   "source": [
    "## Conditionals"
   ]
  },
  {
   "cell_type": "code",
   "execution_count": null,
   "metadata": {},
   "outputs": [],
   "source": [
    "e = ''\n",
    "f = 7\n",
    "g = 'a'*f\n",
    "if e == ' ':\n",
    "    if g == 'aaaaaaa':\n",
    "        print('evaporate')\n",
    "    elif f > 0:\n",
    "        print('hysterical')\n",
    "    else:\n",
    "        print('therapeutic')\n",
    "elif e == '':\n",
    "    if g == 'aaaaaa':\n",
    "        print('flight')\n",
    "    elif f ** f == f ** 7:\n",
    "        print('pointless')\n",
    "    elif f != 7:\n",
    "        print('robust')\n",
    "else:\n",
    "    print('fan')"
   ]
  },
  {
   "cell_type": "markdown",
   "metadata": {},
   "source": [
    "## Lists"
   ]
  },
  {
   "cell_type": "code",
   "execution_count": null,
   "metadata": {},
   "outputs": [],
   "source": [
    "listy = ['Last', 'Friday', 'in', 3, 'weeks', 'time', 'I', 'saw', 'a', 'spotted']\n",
    "listee = ['blue', 'worm', 'shake', 'hands', 'with', 'a', 'legless', 'lizard', 'True']\n",
    "# is a worm a legless lizard?"
   ]
  },
  {
   "cell_type": "code",
   "execution_count": null,
   "metadata": {},
   "outputs": [],
   "source": [
    "print(listy[8] in listee)"
   ]
  },
  {
   "cell_type": "code",
   "execution_count": null,
   "metadata": {},
   "outputs": [],
   "source": [
    "print(listy[:5:2])"
   ]
  },
  {
   "cell_type": "code",
   "execution_count": null,
   "metadata": {},
   "outputs": [],
   "source": [
    "print(listee[0::3])"
   ]
  },
  {
   "cell_type": "code",
   "execution_count": null,
   "metadata": {},
   "outputs": [],
   "source": [
    "print(listee[-3])"
   ]
  },
  {
   "cell_type": "code",
   "execution_count": null,
   "metadata": {},
   "outputs": [],
   "source": [
    "print(listee[3:7])"
   ]
  },
  {
   "cell_type": "code",
   "execution_count": null,
   "metadata": {},
   "outputs": [],
   "source": [
    "print(len(listy[0:3]) in listy)"
   ]
  },
  {
   "cell_type": "code",
   "execution_count": null,
   "metadata": {},
   "outputs": [],
   "source": [
    "print((len(listy) != len(listee)) in listee)"
   ]
  },
  {
   "cell_type": "code",
   "execution_count": null,
   "metadata": {},
   "outputs": [],
   "source": []
  },
  {
   "cell_type": "code",
   "execution_count": null,
   "metadata": {},
   "outputs": [],
   "source": [
    "a_string = ['This', 'is', 'the', 'last', 'random', 'sentence'] # I promise\n",
    "a_string[-5] = 'b'"
   ]
  },
  {
   "cell_type": "code",
   "execution_count": null,
   "metadata": {},
   "outputs": [],
   "source": [
    "print(a_string[0:])"
   ]
  },
  {
   "cell_type": "code",
   "execution_count": null,
   "metadata": {},
   "outputs": [],
   "source": [
    "print(a_string[:-1])"
   ]
  },
  {
   "cell_type": "markdown",
   "metadata": {},
   "source": [
    "## Loops"
   ]
  },
  {
   "cell_type": "code",
   "execution_count": null,
   "metadata": {},
   "outputs": [],
   "source": [
    "list_1 = [True, 9, 'hi', None]\n",
    "for item in list_1:\n",
    "    print(item)"
   ]
  },
  {
   "cell_type": "code",
   "execution_count": null,
   "metadata": {},
   "outputs": [],
   "source": [
    "dictionary_1 = {\"a\": 56, \"e\": 97, \"i\": 43, \"o\": 34, \"u\": 22}\n",
    "for item in dictionary_1:\n",
    "    print(item)"
   ]
  },
  {
   "cell_type": "code",
   "execution_count": null,
   "metadata": {},
   "outputs": [],
   "source": [
    "list_of_nums = [\"64\", \"87\", \"29\"]\n",
    "for value in list_of_nums:\n",
    "    print(value)\n",
    "    print(isinstance(value, int))\n",
    "    print(isinstance(value, str))"
   ]
  },
  {
   "cell_type": "code",
   "execution_count": null,
   "metadata": {},
   "outputs": [],
   "source": [
    "real_list_of_nums = [9, 32, 0, 48, 1]\n",
    "for num in real_list_of_nums:\n",
    "    print(num)"
   ]
  },
  {
   "cell_type": "code",
   "execution_count": null,
   "metadata": {},
   "outputs": [],
   "source": [
    "fruit = \"malum\" # a malum a day keeps the doctor away\n",
    "for bid in fruit:\n",
    "    print(bid)"
   ]
  },
  {
   "cell_type": "code",
   "execution_count": null,
   "metadata": {},
   "outputs": [],
   "source": [
    "x = 99\n",
    "while True:\n",
    "    x = x - 1\n",
    "    print(x)\n",
    "    if x > 90:\n",
    "        continue\n",
    "        print(x)\n",
    "    if x % 5 == 0:\n",
    "        print(x)\n",
    "        break\n",
    "        print(x)"
   ]
  },
  {
   "cell_type": "code",
   "execution_count": null,
   "metadata": {},
   "outputs": [],
   "source": [
    "l = [3, 10, 9, 40, 0]\n",
    "for i in range(3):\n",
    "    l[i] = l[i+2]\n",
    "print(l)\n",
    "\n",
    "print(\"--------------\")\n",
    "\n",
    "for j in range(2,5):\n",
    "    print(l[j-1] + j)"
   ]
  },
  {
   "cell_type": "markdown",
   "metadata": {},
   "source": [
    "## Range"
   ]
  },
  {
   "cell_type": "code",
   "execution_count": null,
   "metadata": {},
   "outputs": [],
   "source": [
    "for i in range(9): # there's a lot\n",
    "    print(i)"
   ]
  },
  {
   "cell_type": "code",
   "execution_count": null,
   "metadata": {},
   "outputs": [],
   "source": [
    "for i in range(0,9): # of range questions here\n",
    "    print(i)"
   ]
  },
  {
   "cell_type": "code",
   "execution_count": null,
   "metadata": {},
   "outputs": [],
   "source": [
    "for i in range(2, 10): # there must be a\n",
    "    print(i)"
   ]
  },
  {
   "cell_type": "code",
   "execution_count": null,
   "metadata": {},
   "outputs": [],
   "source": [
    "for i in range(10, 20, 1): # lot of range questions\n",
    "    print(i)"
   ]
  },
  {
   "cell_type": "code",
   "execution_count": null,
   "metadata": {},
   "outputs": [],
   "source": [
    "for i in range(24, 13, 3): # on the final!\n",
    "    print(i)"
   ]
  },
  {
   "cell_type": "code",
   "execution_count": null,
   "metadata": {},
   "outputs": [],
   "source": [
    "for i in range(13, 21): # no, these are just\n",
    "    print(i)"
   ]
  },
  {
   "cell_type": "code",
   "execution_count": null,
   "metadata": {},
   "outputs": [],
   "source": [
    "for i in range(3, 51, 13): # easy questions to write\n",
    "    print(i)"
   ]
  },
  {
   "cell_type": "markdown",
   "metadata": {},
   "source": [
    "## Dictionaries"
   ]
  },
  {
   "cell_type": "code",
   "execution_count": null,
   "metadata": {},
   "outputs": [],
   "source": [
    "d = {3:\"slippery\", 5:\"soar\", 1:\"translate\", 0:\"cute\", 6:\"knotty\", 4:\"earthquake\", 2:\"sponge\"}\n",
    "l = [24, 37, 18, 30, 11, 200, 27]"
   ]
  },
  {
   "cell_type": "code",
   "execution_count": null,
   "metadata": {},
   "outputs": [],
   "source": [
    "for item in d:\n",
    "    if l[item] % 2 == 0:\n",
    "        print(item)\n",
    "    else:\n",
    "        print(d[item])"
   ]
  },
  {
   "cell_type": "markdown",
   "metadata": {},
   "source": [
    "## Functions"
   ]
  },
  {
   "cell_type": "code",
   "execution_count": null,
   "metadata": {},
   "outputs": [],
   "source": [
    "u = 5\n",
    "v = 4\n",
    "\n",
    "def s_function(t, s):\n",
    "    print(t)\n",
    "    print(s)\n",
    "\n",
    "s_function(v,u) # what will be printed after calling this function?"
   ]
  },
  {
   "cell_type": "code",
   "execution_count": null,
   "metadata": {},
   "outputs": [],
   "source": []
  },
  {
   "cell_type": "code",
   "execution_count": 1,
   "metadata": {},
   "outputs": [
    {
     "name": "stdout",
     "output_type": "stream",
     "text": [
      "vari:  40\n",
      "able:  18\n",
      "the value of vari is:  10\n",
      "the value of able is:  20\n"
     ]
    }
   ],
   "source": [
    "vari = 10\n",
    "able = 20\n",
    "\n",
    "def some_function(vari, able):\n",
    "    vari = vari * 2\n",
    "    able = able - 1\n",
    "    print(\"vari: \", vari)\n",
    "    print(\"able: \", able)\n",
    "    \n",
    "some_function(20, 19)\n",
    "print(\"the value of vari is: \", vari)\n",
    "print(\"the value of able is: \", able)"
   ]
  },
  {
   "cell_type": "code",
   "execution_count": null,
   "metadata": {},
   "outputs": [],
   "source": [
    "some_function(20, 19) # wait, is anything going to be printed? there's no print"
   ]
  },
  {
   "cell_type": "code",
   "execution_count": null,
   "metadata": {},
   "outputs": [],
   "source": []
  },
  {
   "cell_type": "code",
   "execution_count": null,
   "metadata": {},
   "outputs": [],
   "source": [
    "def another_one(d,j,k):\n",
    "    d = 4\n",
    "    j = j + 1\n",
    "    return d+j*k\n",
    "\n",
    "d = 5\n",
    "j = 3\n",
    "k = 2\n",
    "k = another_one(j,d,2)\n",
    "\n",
    "print(\"the value of d is: \", d)\n",
    "print(\"the value of j is: \", j)\n",
    "print(\"the value of k is: \", k)"
   ]
  },
  {
   "cell_type": "code",
   "execution_count": null,
   "metadata": {},
   "outputs": [],
   "source": []
  },
  {
   "cell_type": "code",
   "execution_count": null,
   "metadata": {},
   "outputs": [],
   "source": [
    "def string_cutoff(stringy, cutoff=1):\n",
    "    return stringy[:(0-cutoff)]"
   ]
  },
  {
   "cell_type": "code",
   "execution_count": null,
   "metadata": {},
   "outputs": [],
   "source": [
    "print(string_cutoff(\"illustrate\", 2))"
   ]
  },
  {
   "cell_type": "code",
   "execution_count": null,
   "metadata": {},
   "outputs": [],
   "source": [
    "to_cut = \"delirious\"\n",
    "print(string_cutoff(to_cut, 5))"
   ]
  },
  {
   "cell_type": "code",
   "execution_count": null,
   "metadata": {},
   "outputs": [],
   "source": [
    "return_str = string_cutoff(\"innocent\")\n",
    "print(return_str)"
   ]
  },
  {
   "cell_type": "code",
   "execution_count": null,
   "metadata": {},
   "outputs": [],
   "source": [
    "print(string_cutoff(\"disturbed\", cutoff=7))"
   ]
  },
  {
   "cell_type": "code",
   "execution_count": null,
   "metadata": {},
   "outputs": [],
   "source": [
    "# any idea why this function is called string_cutoff?"
   ]
  },
  {
   "cell_type": "code",
   "execution_count": null,
   "metadata": {},
   "outputs": [],
   "source": []
  },
  {
   "cell_type": "code",
   "execution_count": null,
   "metadata": {},
   "outputs": [],
   "source": [
    "def nth_root(number=1, root=1):\n",
    "    \"\"\"returns the nth root of a number\"\"\"\n",
    "    return number**(1/root)"
   ]
  },
  {
   "cell_type": "code",
   "execution_count": null,
   "metadata": {},
   "outputs": [],
   "source": [
    "print(nth_root(root=3, number=27)) # wait, you can switch the order?"
   ]
  },
  {
   "cell_type": "code",
   "execution_count": null,
   "metadata": {},
   "outputs": [],
   "source": [
    "number = 4\n",
    "root = 16\n",
    "answer = nth_root(number=root,root=number)\n",
    "print(answer)"
   ]
  },
  {
   "cell_type": "code",
   "execution_count": null,
   "metadata": {},
   "outputs": [],
   "source": [
    "print(nth_root())"
   ]
  },
  {
   "cell_type": "markdown",
   "metadata": {},
   "source": [
    "## Classes and Objects"
   ]
  },
  {
   "cell_type": "code",
   "execution_count": null,
   "metadata": {},
   "outputs": [],
   "source": [
    "class Note():\n",
    "    \n",
    "    def __init__(self, title, content):\n",
    "        self.title = title\n",
    "        self.content = content\n",
    "        \n",
    "    def print_title(self):\n",
    "        print(self.title)\n",
    "    \n",
    "    def print_content(self):\n",
    "        print(self.content)"
   ]
  },
  {
   "cell_type": "code",
   "execution_count": null,
   "metadata": {},
   "outputs": [],
   "source": [
    "note_1 = Note(\"Groceries\", \"chips, soda\")\n",
    "note_2 = Note(\"\", \"\")\n",
    "note_3 = Note(\"Netflix Password\", \"correcthorsebatterystaple\")\n",
    "\n",
    "list_of_notes = [note_1, note_2, note_3]"
   ]
  },
  {
   "cell_type": "code",
   "execution_count": null,
   "metadata": {},
   "outputs": [],
   "source": [
    "for note in list_of_notes:\n",
    "    note.print_title()\n",
    "    note.print_content()"
   ]
  },
  {
   "cell_type": "code",
   "execution_count": null,
   "metadata": {},
   "outputs": [],
   "source": [
    "# I honestly have no idea what types of questions could be asked for Classes and Objects"
   ]
  },
  {
   "cell_type": "markdown",
   "metadata": {},
   "source": [
    "# Error Fixing"
   ]
  },
  {
   "cell_type": "markdown",
   "metadata": {},
   "source": [
    "Fix the errors so that the functions work (no new lines should be added)"
   ]
  },
  {
   "cell_type": "code",
   "execution_count": null,
   "metadata": {},
   "outputs": [],
   "source": [
    "def factorial(number):\n",
    "    \"\"\"returns the factorial of a number\"\"\"\n",
    "    answr = 1\n",
    "    if isinstance(number, float)\n",
    "        print(\"Ain't dealin' with that\")\n",
    "    else number > 0:\n",
    "        for i in range(1, number):\n",
    "            answer = answer * i\n",
    "    return answer"
   ]
  },
  {
   "cell_type": "code",
   "execution_count": null,
   "metadata": {},
   "outputs": [],
   "source": [
    "print(factoral(5)) # should print 120"
   ]
  },
  {
   "cell_type": "code",
   "execution_count": null,
   "metadata": {},
   "outputs": [],
   "source": [
    "print(factorial(1.5)) # wanna deal with that?"
   ]
  },
  {
   "cell_type": "code",
   "execution_count": null,
   "metadata": {},
   "outputs": [],
   "source": []
  },
  {
   "cell_type": "code",
   "execution_count": null,
   "metadata": {},
   "outputs": [],
   "source": [
    "def count_letter_frequency(string, letter):\n",
    "    \"\"\"returns the number of letters in a string\"\"\"\n",
    "    count = 1\n",
    "    for char in string:\n",
    "        if char = letter:\n",
    "            count += 1\n",
    "    return count"
   ]
  },
  {
   "cell_type": "code",
   "execution_count": null,
   "metadata": {},
   "outputs": [],
   "source": [
    "print(count_letter_frequency(\"there's a lot of e's\", \"e\")) # should print 3"
   ]
  },
  {
   "cell_type": "code",
   "execution_count": null,
   "metadata": {},
   "outputs": [],
   "source": []
  },
  {
   "cell_type": "code",
   "execution_count": null,
   "metadata": {},
   "outputs": [],
   "source": [
    "# This is a custom implementation of Python's range() function\n",
    "# It works a little bit differently than the actual function\n",
    "# The first input is stop, which is the number you want to stop at\n",
    "# The second input is start, which is the number you want to start at\n",
    "# The third input is step, which is the number you want to increment by\n",
    "\n",
    "def my_range(stop, start=0, step=1):\n",
    "    \"\"\"returns a list from the starting number to the stopping number\"\"\"\n",
    "    range_list = []\n",
    "    current_point = start\n",
    "    while stop < current_point:\n",
    "        range_list.append(stop)\n",
    "        current_point = current_point + step\n",
    "    return range_list"
   ]
  },
  {
   "cell_type": "code",
   "execution_count": null,
   "metadata": {},
   "outputs": [],
   "source": [
    "print(my_range(9)) # should print [0, 1, 2, 3, 4, 5, 6, 7, 8]"
   ]
  },
  {
   "cell_type": "code",
   "execution_count": null,
   "metadata": {},
   "outputs": [],
   "source": [
    "print(my_range(14, 1, 2)) # should print [1, 3, 5, 7, 9, 11, 13]"
   ]
  },
  {
   "cell_type": "code",
   "execution_count": null,
   "metadata": {},
   "outputs": [],
   "source": [
    "print(my_range(100, step=10, start=10)) # should print [10, 20, 30, 40, 50, 60, 70, 80, 90]"
   ]
  },
  {
   "cell_type": "code",
   "execution_count": null,
   "metadata": {},
   "outputs": [],
   "source": []
  },
  {
   "cell_type": "code",
   "execution_count": null,
   "metadata": {},
   "outputs": [],
   "source": [
    "def multiply_list(input_list, multiplier=2):\n",
    "    \"\"\"returns a list of numbers where each number is multiplied by a multiplier\"\"\"\n",
    "    multiplied_list = []\n",
    "    for num in input_list:\n",
    "        num = num * multiplier\n",
    "        multiplied_list.append(num*multiplier)\n",
    "    return multiplied_list"
   ]
  },
  {
   "cell_type": "code",
   "execution_count": null,
   "metadata": {},
   "outputs": [],
   "source": [
    "print(multiply_list([1, 2, 4, 8])) # should print [2, 4, 8, 16]"
   ]
  },
  {
   "cell_type": "code",
   "execution_count": null,
   "metadata": {},
   "outputs": [],
   "source": [
    "print(multiply_list([1, 2, 4, 8], 3)) # should print [3, 6, 12, 24]"
   ]
  },
  {
   "cell_type": "code",
   "execution_count": null,
   "metadata": {},
   "outputs": [],
   "source": [
    "print(multiply_list([6, 4, 0], multiplier=-10)) # should print [-60, -40, 0]"
   ]
  },
  {
   "cell_type": "code",
   "execution_count": null,
   "metadata": {},
   "outputs": [],
   "source": []
  },
  {
   "cell_type": "markdown",
   "metadata": {},
   "source": [
    "`SyntaxError: invalid syntax` is my favorite type of error. But you should fix it anyway."
   ]
  },
  {
   "cell_type": "code",
   "execution_count": null,
   "metadata": {},
   "outputs": [],
   "source": [
    "ready =\n",
    "if ready == True:\n",
    "    print(\"Gonna get that A real easy\")\n",
    "elif ready == False:\n",
    "    print(\"I believe in miracles\")\n",
    "else:\n",
    "    print(\"Nice job! Good luck!\") # :)"
   ]
  }
 ],
 "metadata": {
  "kernelspec": {
   "display_name": "Python 3",
   "language": "python",
   "name": "python3"
  },
  "language_info": {
   "codemirror_mode": {
    "name": "ipython",
    "version": 3
   },
   "file_extension": ".py",
   "mimetype": "text/x-python",
   "name": "python",
   "nbconvert_exporter": "python",
   "pygments_lexer": "ipython3",
   "version": "3.6.7"
  }
 },
 "nbformat": 4,
 "nbformat_minor": 2
}
